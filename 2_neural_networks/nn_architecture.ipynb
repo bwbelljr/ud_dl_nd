{
 "cells": [
  {
   "cell_type": "code",
   "execution_count": 12,
   "metadata": {},
   "outputs": [],
   "source": [
    "import numpy as np"
   ]
  },
  {
   "cell_type": "code",
   "execution_count": 15,
   "metadata": {},
   "outputs": [],
   "source": [
    "weights_list = [[2, 6, -2],\n",
    "                [3, 5, -2.2],\n",
    "                [5, 4, -3]]"
   ]
  },
  {
   "cell_type": "code",
   "execution_count": 16,
   "metadata": {},
   "outputs": [
    {
     "name": "stdout",
     "output_type": "stream",
     "text": [
      "[2, 6, -2] yields probability of 0.9168273035060777\n",
      "[3, 5, -2.2] yields probability of 0.8807970779778823\n",
      "[5, 4, -3] yields probability of 0.8021838885585818\n"
     ]
    }
   ],
   "source": [
    "for weights in weights_list:\n",
    "    score = np.array(weights).dot(np.array([0.4, 0.6, 1]))\n",
    "    prob = 1/(1+np.exp(-score))\n",
    "    print(weights, \"yields probability of\", prob)"
   ]
  },
  {
   "cell_type": "code",
   "execution_count": null,
   "metadata": {},
   "outputs": [],
   "source": []
  }
 ],
 "metadata": {
  "kernelspec": {
   "display_name": "Python [conda env:ud_dl_nd] *",
   "language": "python",
   "name": "conda-env-ud_dl_nd-py"
  },
  "language_info": {
   "codemirror_mode": {
    "name": "ipython",
    "version": 3
   },
   "file_extension": ".py",
   "mimetype": "text/x-python",
   "name": "python",
   "nbconvert_exporter": "python",
   "pygments_lexer": "ipython3",
   "version": "3.7.8"
  }
 },
 "nbformat": 4,
 "nbformat_minor": 4
}
