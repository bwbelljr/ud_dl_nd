{
 "cells": [
  {
   "cell_type": "code",
   "execution_count": 84,
   "metadata": {},
   "outputs": [],
   "source": [
    "import numpy as np"
   ]
  },
  {
   "cell_type": "code",
   "execution_count": 90,
   "metadata": {},
   "outputs": [],
   "source": [
    "line = np.array([3, 4, -10])"
   ]
  },
  {
   "cell_type": "code",
   "execution_count": 91,
   "metadata": {},
   "outputs": [],
   "source": [
    "point = np.array([1,1,1])"
   ]
  },
  {
   "cell_type": "code",
   "execution_count": 92,
   "metadata": {},
   "outputs": [],
   "source": [
    "lr = 0.1"
   ]
  },
  {
   "cell_type": "code",
   "execution_count": 93,
   "metadata": {},
   "outputs": [
    {
     "name": "stdout",
     "output_type": "stream",
     "text": [
      "New line is [ 3.1  4.1 -9.9] number of moves is 1\n",
      "Score is -2.700000000000001\n",
      "New line is [ 3.2  4.2 -9.8] number of moves is 2\n",
      "Score is -2.4000000000000012\n",
      "New line is [ 3.3  4.3 -9.7] number of moves is 3\n",
      "Score is -2.1000000000000014\n",
      "New line is [ 3.4  4.4 -9.6] number of moves is 4\n",
      "Score is -1.8000000000000025\n",
      "New line is [ 3.5  4.5 -9.5] number of moves is 5\n",
      "Score is -1.5000000000000036\n",
      "New line is [ 3.6  4.6 -9.4] number of moves is 6\n",
      "Score is -1.2000000000000028\n",
      "New line is [ 3.7  4.7 -9.3] number of moves is 7\n",
      "Score is -0.9000000000000039\n",
      "New line is [ 3.8  4.8 -9.2] number of moves is 8\n",
      "Score is -0.600000000000005\n",
      "New line is [ 3.9  4.9 -9.1] number of moves is 9\n",
      "Score is -0.30000000000000604\n",
      "New line is [ 4.  5. -9.] number of moves is 10\n",
      "Score is 0\n"
     ]
    }
   ],
   "source": [
    "num_moves = 0\n",
    "\n",
    "while sum(line) < 0:\n",
    "    line = line + lr*point\n",
    "    num_moves += 1\n",
    "    print(f\"New line is {line} number of moves is {num_moves}\")\n",
    "    if np.isclose(np.array(0), sum(line)):\n",
    "        print(f\"Score is 0\")\n",
    "        break\n",
    "    else:\n",
    "        print(f\"Score is {sum(line)}\")"
   ]
  },
  {
   "cell_type": "code",
   "execution_count": 94,
   "metadata": {},
   "outputs": [
    {
     "data": {
      "text/plain": [
       "10"
      ]
     },
     "execution_count": 94,
     "metadata": {},
     "output_type": "execute_result"
    }
   ],
   "source": [
    "num_moves"
   ]
  },
  {
   "cell_type": "code",
   "execution_count": null,
   "metadata": {},
   "outputs": [],
   "source": []
  }
 ],
 "metadata": {
  "kernelspec": {
   "display_name": "Python [conda env:ud_dl_nd] *",
   "language": "python",
   "name": "conda-env-ud_dl_nd-py"
  },
  "language_info": {
   "codemirror_mode": {
    "name": "ipython",
    "version": 3
   },
   "file_extension": ".py",
   "mimetype": "text/x-python",
   "name": "python",
   "nbconvert_exporter": "python",
   "pygments_lexer": "ipython3",
   "version": "3.7.8"
  }
 },
 "nbformat": 4,
 "nbformat_minor": 4
}
