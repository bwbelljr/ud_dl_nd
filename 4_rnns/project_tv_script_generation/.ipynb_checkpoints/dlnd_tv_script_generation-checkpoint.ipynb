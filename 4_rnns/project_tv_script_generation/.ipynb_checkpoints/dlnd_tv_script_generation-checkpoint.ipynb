{
  "nbformat": 4,
  "nbformat_minor": 0,
  "metadata": {
    "colab": {
      "name": "dlnd_tv_script_generation.ipynb",
      "provenance": [],
      "collapsed_sections": [],
      "machine_shape": "hm"
    },
    "kernelspec": {
      "name": "python3",
      "display_name": "Python 3"
    },
    "accelerator": "GPU"
  },
  "cells": [
    {
      "cell_type": "markdown",
      "metadata": {
        "id": "Ypuo9eusmqod"
      },
      "source": [
        "# TV Script Generation\r\n",
        "\r\n",
        "In this project, you'll generate your own [Seinfeld](https://en.wikipedia.org/wiki/Seinfeld) TV scripts using RNNs. You'll be using part of the [Seinfeld dataset](https://www.kaggle.com/thec03u5/seinfeld-chronicles#scripts.csv) of scripts from 9 seasons. The Neural Network you'll build will generate a new \"fake\" TV script, based on patterns it recognized in this training data.\r\n",
        "\r\n",
        "## Get the Data\r\n",
        "\r\n",
        "The data is already provided, and you're encouraged to open that file and look at the text.\r\n",
        ">* As a first step, we'll load in this data and look at some samples.\r\n",
        ">* Then, you'll be tasked with defining and training an RNN to generate a new script!"
      ]
    },
    {
      "cell_type": "code",
      "metadata": {
        "colab": {
          "base_uri": "https://localhost:8080/"
        },
        "id": "y1sLolg9p6WL",
        "outputId": "0abfc38d-558a-413c-9503-c7bf20d9242d"
      },
      "source": [
        "# Download data (for Colab)\r\n",
        "!mkdir ./data\r\n",
        "!wget https://raw.githubusercontent.com/udacity/deep-learning-v2-pytorch/master/project-tv-script-generation/data/Seinfeld_Scripts.txt\r\n",
        "!mv Seinfeld_Scripts.txt ./data "
      ],
      "execution_count": 1,
      "outputs": [
        {
          "output_type": "stream",
          "text": [
            "--2021-02-01 20:04:00--  https://raw.githubusercontent.com/udacity/deep-learning-v2-pytorch/master/project-tv-script-generation/data/Seinfeld_Scripts.txt\n",
            "Resolving raw.githubusercontent.com (raw.githubusercontent.com)... 151.101.0.133, 151.101.64.133, 151.101.128.133, ...\n",
            "Connecting to raw.githubusercontent.com (raw.githubusercontent.com)|151.101.0.133|:443... connected.\n",
            "HTTP request sent, awaiting response... 200 OK\n",
            "Length: 3471475 (3.3M) [text/plain]\n",
            "Saving to: ‘Seinfeld_Scripts.txt’\n",
            "\n",
            "Seinfeld_Scripts.tx 100%[===================>]   3.31M  10.5MB/s    in 0.3s    \n",
            "\n",
            "2021-02-01 20:04:01 (10.5 MB/s) - ‘Seinfeld_Scripts.txt’ saved [3471475/3471475]\n",
            "\n"
          ],
          "name": "stdout"
        }
      ]
    },
    {
      "cell_type": "code",
      "metadata": {
        "colab": {
          "base_uri": "https://localhost:8080/"
        },
        "id": "uY_DDJKOqYWt",
        "outputId": "57d8c29d-517c-4ced-84c7-78165c0821d7"
      },
      "source": [
        "# Download helper file `helper.py`\r\n",
        "!wget https://raw.githubusercontent.com/udacity/deep-learning-v2-pytorch/master/project-tv-script-generation/helper.py"
      ],
      "execution_count": 2,
      "outputs": [
        {
          "output_type": "stream",
          "text": [
            "--2021-02-01 20:04:01--  https://raw.githubusercontent.com/udacity/deep-learning-v2-pytorch/master/project-tv-script-generation/helper.py\n",
            "Resolving raw.githubusercontent.com (raw.githubusercontent.com)... 151.101.0.133, 151.101.64.133, 151.101.128.133, ...\n",
            "Connecting to raw.githubusercontent.com (raw.githubusercontent.com)|151.101.0.133|:443... connected.\n",
            "HTTP request sent, awaiting response... 200 OK\n",
            "Length: 1407 (1.4K) [text/plain]\n",
            "Saving to: ‘helper.py’\n",
            "\n",
            "helper.py           100%[===================>]   1.37K  --.-KB/s    in 0s      \n",
            "\n",
            "2021-02-01 20:04:02 (20.7 MB/s) - ‘helper.py’ saved [1407/1407]\n",
            "\n"
          ],
          "name": "stdout"
        }
      ]
    },
    {
      "cell_type": "code",
      "metadata": {
        "colab": {
          "base_uri": "https://localhost:8080/"
        },
        "id": "DhZFO8SVzILl",
        "outputId": "ef24442b-5b22-4c6c-e80f-3fd1e931280d"
      },
      "source": [
        "# Download unit tests script\r\n",
        "!wget https://raw.githubusercontent.com/udacity/deep-learning-v2-pytorch/master/project-tv-script-generation/problem_unittests.py"
      ],
      "execution_count": 3,
      "outputs": [
        {
          "output_type": "stream",
          "text": [
            "--2021-02-01 20:04:02--  https://raw.githubusercontent.com/udacity/deep-learning-v2-pytorch/master/project-tv-script-generation/problem_unittests.py\n",
            "Resolving raw.githubusercontent.com (raw.githubusercontent.com)... 151.101.0.133, 151.101.64.133, 151.101.128.133, ...\n",
            "Connecting to raw.githubusercontent.com (raw.githubusercontent.com)|151.101.0.133|:443... connected.\n",
            "HTTP request sent, awaiting response... 200 OK\n",
            "Length: 10060 (9.8K) [text/plain]\n",
            "Saving to: ‘problem_unittests.py’\n",
            "\n",
            "problem_unittests.p 100%[===================>]   9.82K  --.-KB/s    in 0s      \n",
            "\n",
            "2021-02-01 20:04:03 (85.1 MB/s) - ‘problem_unittests.py’ saved [10060/10060]\n",
            "\n"
          ],
          "name": "stdout"
        }
      ]
    },
    {
      "cell_type": "code",
      "metadata": {
        "id": "4KlG9vBIRlKS"
      },
      "source": [
        "CUDA_LAUNCH_BLOCKING=1"
      ],
      "execution_count": 4,
      "outputs": []
    },
    {
      "cell_type": "code",
      "metadata": {
        "id": "peZp7xq7p4PK"
      },
      "source": [
        "\"\"\"\r\n",
        "DON\"T MODIFY ANYTHING IN THIS CELL\r\n",
        "\"\"\"\r\n",
        "# load in data\r\n",
        "import helper\r\n",
        "data_dir = './data/Seinfeld_Scripts.txt'\r\n",
        "text = helper.load_data(data_dir)"
      ],
      "execution_count": 5,
      "outputs": []
    },
    {
      "cell_type": "markdown",
      "metadata": {
        "id": "9gMAzBrurAE-"
      },
      "source": [
        "## Explore the Data\r\n",
        "\r\n",
        "Play around with `view_line_range` to view different parts of the data. This will give you a sense of the data you'll be working with. You can see, for example, that it is all lowercase text, and each new line of dialogue is separated by a newline character `\\n`."
      ]
    },
    {
      "cell_type": "code",
      "metadata": {
        "colab": {
          "base_uri": "https://localhost:8080/"
        },
        "id": "vuu2kdSosGTj",
        "outputId": "cf30af48-03d1-44ba-a988-9c1b2e00d48a"
      },
      "source": [
        "view_line_range = (0, 10)\r\n",
        "\r\n",
        "\"\"\"\r\n",
        "DON'T MODIFY ANYTHING IN THIS CELL THAT IS BELOW THIS LINE\r\n",
        "\"\"\"\r\n",
        "import numpy as np\r\n",
        "\r\n",
        "print('Dataset Stats')\r\n",
        "print('Roughly the number of unique words: {}'.format(len({word: None for word in text.split()})))\r\n",
        "\r\n",
        "lines = text.split('\\n')\r\n",
        "print('Number of lines: {}'.format(len(lines)))\r\n",
        "word_count_line = [len(line.split()) for line in lines]\r\n",
        "print('Average number of words in each line: {}'.format(np.average(word_count_line)))\r\n",
        "\r\n",
        "print()\r\n",
        "print('The lines {} to {}:'.format(*view_line_range))\r\n",
        "print('\\n'.join(text.split('\\n')[view_line_range[0]:view_line_range[1]]))"
      ],
      "execution_count": 6,
      "outputs": [
        {
          "output_type": "stream",
          "text": [
            "Dataset Stats\n",
            "Roughly the number of unique words: 46367\n",
            "Number of lines: 109233\n",
            "Average number of words in each line: 5.544240293684143\n",
            "\n",
            "The lines 0 to 10:\n",
            "jerry: do you know what this is all about? do you know, why were here? to be out, this is out...and out is one of the single most enjoyable experiences of life. people...did you ever hear people talking about we should go out? this is what theyre talking about...this whole thing, were all out now, no one is home. not one person here is home, were all out! there are people trying to find us, they dont know where we are. (on an imaginary phone) did you ring?, i cant find him. where did he go? he didnt tell me where he was going. he must have gone out. you wanna go out you get ready, you pick out the clothes, right? you take the shower, you get all ready, get the cash, get your friends, the car, the spot, the reservation...then youre standing around, what do you do? you go we gotta be getting back. once youre out, you wanna get back! you wanna go to sleep, you wanna get up, you wanna go out again tomorrow, right? where ever you are in life, its my feeling, youve gotta go. \n",
            "\n",
            "jerry: (pointing at georges shirt) see, to me, that button is in the worst possible spot. the second button literally makes or breaks the shirt, look at it. its too high! its in no-mans-land. you look like you live with your mother. \n",
            "\n",
            "george: are you through? \n",
            "\n",
            "jerry: you do of course try on, when you buy? \n",
            "\n",
            "george: yes, it was purple, i liked it, i dont actually recall considering the buttons. \n",
            "\n"
          ],
          "name": "stdout"
        }
      ]
    },
    {
      "cell_type": "markdown",
      "metadata": {
        "id": "pFAG-7Xss8wA"
      },
      "source": [
        "---\r\n",
        "## Implement Pre-processing Functions\r\n",
        "The first thing to do to any dataset is pre-processing. Implement the following pre-processing functions below:\r\n",
        "* Lookup Table\r\n",
        "* Tokenize Punctuation\r\n",
        "\r\n",
        "### Lookup Table\r\n",
        "\r\n",
        "To create a word embedding, you first need to transform the words to ids. In this function, create two dictionaries:\r\n",
        "* Dictionary to go from the words to an id, we'll call `vocab_to_int`\r\n",
        "* Dictionary to go from id to word, we'll call `int_to_vocab`\r\n",
        "\r\n",
        "Return these dictionaries in the following **tuple** `(vocab_to_int, int_to_vocab)`"
      ]
    },
    {
      "cell_type": "code",
      "metadata": {
        "id": "jFNOo_wEzE3M"
      },
      "source": [
        "import problem_unittests as tests"
      ],
      "execution_count": 7,
      "outputs": []
    },
    {
      "cell_type": "code",
      "metadata": {
        "id": "U0IfkyVo0V1s"
      },
      "source": [
        "from collections import Counter"
      ],
      "execution_count": 8,
      "outputs": []
    },
    {
      "cell_type": "code",
      "metadata": {
        "id": "LVNaWVx4zc2k",
        "colab": {
          "base_uri": "https://localhost:8080/"
        },
        "outputId": "2ca23873-e70a-4272-9477-38afeb4f3f0e"
      },
      "source": [
        "def create_lookup_tables(text):\r\n",
        "    \"\"\"\r\n",
        "    Create lookup tables for vocabulary\r\n",
        "    :param text: The text of tv scripts split into words\r\n",
        "    :return: A tuple of dicts (vocab_to_int, int_to_vocab)\r\n",
        "    \"\"\"\r\n",
        "    # TODO: Implement Function\r\n",
        "\r\n",
        "    # Count word/token occurrences\r\n",
        "    word_counts = Counter(text)\r\n",
        "\r\n",
        "    # Generate list of tokens in order of most frequent\r\n",
        "    word_tokens = sorted(word_counts, key=word_counts.get, reverse=True)\r\n",
        "\r\n",
        "    # Map integers to vocabulary (starting with index 0)\r\n",
        "    int_to_vocab = dict(enumerate(word_tokens))\r\n",
        "    # Map vocabulary to integers\r\n",
        "    vocab_to_int = {val:key for key, val in int_to_vocab.items()}\r\n",
        "\r\n",
        "    # return tuple\r\n",
        "    return (vocab_to_int, int_to_vocab)\r\n",
        "\r\n",
        "\"\"\"\r\n",
        "DON\"T MODIFY ANYTHING IN THIS CELL THAT IS BELOW THIS LINE\r\n",
        "\"\"\"\r\n",
        "tests.test_create_lookup_tables(create_lookup_tables)"
      ],
      "execution_count": 9,
      "outputs": [
        {
          "output_type": "stream",
          "text": [
            "Tests Passed\n"
          ],
          "name": "stdout"
        }
      ]
    },
    {
      "cell_type": "markdown",
      "metadata": {
        "id": "uhNBcJv166gB"
      },
      "source": [
        "### Tokenize Punctuation\r\n",
        "\r\n",
        "We'll be splitting the script into a word array using spaces as delimiters. However, punctuations like periods and exclamation marks can create multiple ids for the same word. For example, \"bye\" and \"bye!\" would generate two different word ids.\r\n",
        "\r\n",
        "Implement the function `token_lookup` to return a dict that will be used to tokenize symbols like \"!\" into \"||Exclamation_Mark||\". Create a dictionary for the following symbols where the symbol is the key and value is the token:\r\n",
        "* Period (`.`)\r\n",
        "* Comma (`,`)\r\n",
        "* Quotation Mark (`\"`)\r\n",
        "* Semicolon (`;`)\r\n",
        "* Exclamation mark (`!`)\r\n",
        "* Question mark (`?`)\r\n",
        "* Left Parentheses (`(`)\r\n",
        "* Right Parentheses (`)`)\r\n",
        "* Dash (`-`)\r\n",
        "* Return (`\\n`)\r\n",
        "\r\n",
        "This dictionary will be used to tokenize the symbols and add the delimiter (space) around it. This separates each symbols as its own word, making it easier for the neural network to predict the next word. Make sure you don't use a value that could be confused as a word; for example, instead of using the value \"dash\", try using something like \"dash\"\r\n"
      ]
    },
    {
      "cell_type": "code",
      "metadata": {
        "colab": {
          "base_uri": "https://localhost:8080/"
        },
        "id": "494IHUfY9a0C",
        "outputId": "5d33ddc4-590b-4a06-dce5-1ecd158c66fc"
      },
      "source": [
        "def token_lookup():\r\n",
        "    \"\"\"\r\n",
        "    Generate a dict to turn punctuation into a token.\r\n",
        "    :return: Tokenized dictionary where the key is the punctuation and the value \r\n",
        "            is the token\r\n",
        "    \"\"\"\r\n",
        "    # TODO: Implement Function\r\n",
        "\r\n",
        "    return {\".\": \"||PERIOD||\",\r\n",
        "            \",\": \"||COMMA||\",\r\n",
        "            '\"': \"||QUOTATION_MARK||\",\r\n",
        "            \";\": \"||SEMICOLON||\",\r\n",
        "            \"!\": \"||EXCLAMATION_MARK||\",\r\n",
        "            \"?\": \"||QUESTION_MARK||\",\r\n",
        "            \"(\": \"||LEFT_PARENTHESES||\",\r\n",
        "            \")\": \"||RIGHT_PARENTHESES||\",\r\n",
        "            \"-\": \"||DASH||\",\r\n",
        "            \"\\n\": \"||RETURN||\",\r\n",
        "            }\r\n",
        "\"\"\"\r\n",
        "DON'T MODIFY ANYTHING IN THIS CELL THAT IS BELOW THIS LINE\r\n",
        "\"\"\"\r\n",
        "tests.test_tokenize(token_lookup)"
      ],
      "execution_count": 10,
      "outputs": [
        {
          "output_type": "stream",
          "text": [
            "Tests Passed\n"
          ],
          "name": "stdout"
        }
      ]
    },
    {
      "cell_type": "markdown",
      "metadata": {
        "id": "VkZqadyO-HmH"
      },
      "source": [
        "## Pre-process all the data and save it\r\n",
        "\r\n",
        "Running he code cell below will pre-process all the data and save it to file. You're encouraged to look at the code for `preprocess_and_save_data` in the `helpers.py` file to see what it's doing in detail, but you do not need to change this code."
      ]
    },
    {
      "cell_type": "code",
      "metadata": {
        "id": "R1795-6D_N0k"
      },
      "source": [
        "\"\"\"\r\n",
        "DON\"T MODIFY ANYTHING IN THIS CELL\r\n",
        "\"\"\"\r\n",
        "# pre-process training data\r\n",
        "helper.preprocess_and_save_data(data_dir, token_lookup, create_lookup_tables)"
      ],
      "execution_count": 11,
      "outputs": []
    },
    {
      "cell_type": "markdown",
      "metadata": {
        "id": "Z6cn6GLC_TFF"
      },
      "source": [
        "# Check Point\r\n",
        "\r\n",
        "This is your first checkpoint. If you ever decide to come back to this notebook or have to restart the notebook, you can start from here. The preprocessed data has been saved to disk."
      ]
    },
    {
      "cell_type": "code",
      "metadata": {
        "id": "z5wICWdLBbOO"
      },
      "source": [
        "\"\"\"\r\n",
        "DON'T MODIFY ANYTHING IN THIS CELL\r\n",
        "\"\"\"\r\n",
        "import helper\r\n",
        "import problem_unittests as tests\r\n",
        "\r\n",
        "int_text, vocab_to_int, int_to_vocab, token_dict = helper.load_preprocess()"
      ],
      "execution_count": 12,
      "outputs": []
    },
    {
      "cell_type": "markdown",
      "metadata": {
        "id": "SFKlFpOHBquB"
      },
      "source": [
        "## Build the Neural Network\r\n",
        "\r\n",
        "In this section, you'll build the components necessary to build an RNN by implementing the RNN Module and forward and backpropagation functions.\r\n",
        "\r\n",
        "### Check Access to GPU"
      ]
    },
    {
      "cell_type": "code",
      "metadata": {
        "id": "3-aphk62C2M5"
      },
      "source": [
        "\"\"\"\r\n",
        "DON'T MODIFY ANYTHING IN THIS CELL\r\n",
        "\"\"\"\r\n",
        "import torch\r\n",
        "\r\n",
        "# Check for a GPU\r\n",
        "train_on_gpu = torch.cuda.is_available()\r\n",
        "if not train_on_gpu:\r\n",
        "    print('No GPU found. Please use a GPU to train your neural network.')"
      ],
      "execution_count": 13,
      "outputs": []
    },
    {
      "cell_type": "markdown",
      "metadata": {
        "id": "B_zib4J5DfnU"
      },
      "source": [
        "## Input\r\n",
        "\r\n",
        "Let's start with the preprocessed input data. We'll use [TensorDataset](http://pytorch.org/docs/master/data.html#torch.utils.data.TensorDataset) to provide a known format to our dataset; in combination with [DataLoader](http://pytorch.org/docs/master/data.html#torch.utils.data.DataLoader), it will handle batching, shuffling, and other dataset iteration functions.\r\n",
        "\r\n",
        "You can create data with TensorDataset by passing in feature and target tensors. Then create a DataLoader as usual.\r\n",
        "\r\n",
        "```python\r\n",
        "data = TensorDataset(featurse_tensors, target_tensors)\r\n",
        "data_loader = torch.utils.data.DataLoader(data, batch_size=batch_size)\r\n",
        "```\r\n",
        "\r\n",
        "### Batching\r\n",
        "Implement the `batch_data` function to batch `words` data into chunks of size `batch_size` using the `TensorDataset` and `DataLoader` classes.\r\n",
        ">You can batch words using the DataLoader, but it will be up to you to create `feature_tensors` and `target_tensors` of the correct size and content for a given `sequence_length`.\r\n",
        "\r\n",
        "For example, say we have these as input:\r\n",
        "```python\r\n",
        "words = [1, 2, 3, 4, 5, 6, 7]\r\n",
        "sequence_length = 4\r\n",
        "```\r\n",
        "\r\n",
        "Your first `feature_tensor` should contain the values:\r\n",
        "```python\r\n",
        "[1, 2, 3, 4]\r\n",
        "```\r\n",
        "\r\n",
        "And the corresponding `target_tensor` should just be the next \"word\"/tokenized word value:\r\n",
        "```python\r\n",
        "5\r\n",
        "```\r\n",
        "\r\n",
        "This should continue with the second `feature_tensor`, `target_tensor` being:\r\n",
        "```python\r\n",
        "[2, 3, 4, 5] # features\r\n",
        "6            # target \r\n",
        "```"
      ]
    },
    {
      "cell_type": "code",
      "metadata": {
        "colab": {
          "base_uri": "https://localhost:8080/"
        },
        "id": "O-M1hbMkGKso",
        "outputId": "0c26c460-acb0-4245-b423-a174de40e9c0"
      },
      "source": [
        "from torch.utils.data import TensorDataset, DataLoader\r\n",
        "\r\n",
        "def batch_data(words, sequence_length, batch_size):\r\n",
        "    \"\"\"\r\n",
        "    Batch the neural network data using DataLoader\r\n",
        "    :param words: The word ids of the TV scripts\r\n",
        "    :param sequence_length: The sequence length of each batch\r\n",
        "    :param batch_size: The size of each batch; the number of sequences in a batch\r\n",
        "    :return: DataLoader with batched data\r\n",
        "    \"\"\"\r\n",
        "    # TODO: Implement function\r\n",
        "\r\n",
        "    feature_arrays = []\r\n",
        "    target_arrays = []\r\n",
        "\r\n",
        "    for i in range(len(words)-sequence_length):\r\n",
        "        feature_arrays.append(words[i:i+sequence_length])\r\n",
        "        target_arrays.append(words[i+sequence_length]) \r\n",
        "\r\n",
        "    feature_tensors = torch.tensor(feature_arrays)\r\n",
        "    target_tensors = torch.tensor(target_arrays) \r\n",
        "    \r\n",
        "    dl = DataLoader(TensorDataset(feature_tensors, target_tensors), \r\n",
        "                    batch_size=batch_size)\r\n",
        "\r\n",
        "    # return a DataLoader\r\n",
        "    return dl\r\n",
        "\r\n",
        "# there is no test for this function, but you are encouraged to create\r\n",
        "# print statements and tests of your own\r\n",
        "\r\n",
        "sample_dl = batch_data(list(range(200)), 5, 10)\r\n",
        "dataiter = iter(sample_dl)\r\n",
        "feature_batch, target_batch = dataiter.next()\r\n",
        "print(feature_batch)\r\n",
        "print(target_batch)"
      ],
      "execution_count": 14,
      "outputs": [
        {
          "output_type": "stream",
          "text": [
            "tensor([[ 0,  1,  2,  3,  4],\n",
            "        [ 1,  2,  3,  4,  5],\n",
            "        [ 2,  3,  4,  5,  6],\n",
            "        [ 3,  4,  5,  6,  7],\n",
            "        [ 4,  5,  6,  7,  8],\n",
            "        [ 5,  6,  7,  8,  9],\n",
            "        [ 6,  7,  8,  9, 10],\n",
            "        [ 7,  8,  9, 10, 11],\n",
            "        [ 8,  9, 10, 11, 12],\n",
            "        [ 9, 10, 11, 12, 13]])\n",
            "tensor([ 5,  6,  7,  8,  9, 10, 11, 12, 13, 14])\n"
          ],
          "name": "stdout"
        }
      ]
    },
    {
      "cell_type": "markdown",
      "metadata": {
        "id": "fohA_1S9LPhQ"
      },
      "source": [
        "### Test your dataloader\r\n",
        "\r\n",
        "You'll have to mdify this code to test a batching function, but it should look fairly similar.\r\n",
        "\r\n",
        "Below, we're generating some test text data and defining a dataloader using the function you defined above. Then, we are getting some sample batch of inputs `sample_x` and targets `sample_y` from our dataloader.\r\n",
        "\r\n",
        "Your code should return something like the following (likely in a different order, if you shuffled your data):\r\n",
        "```python\r\n",
        "torch.Size([10, 5])\r\n",
        "tensor([[ 28,  29,  30,  31,  32],\r\n",
        "        [ 21,  22,  23,  24,  25],\r\n",
        "        [ 17,  18,  19,  20,  21],\r\n",
        "        [ 34,  35,  36,  37,  38],\r\n",
        "        [ 11,  12,  13,  14,  15],\r\n",
        "        [ 23,  24,  25,  26,  27],\r\n",
        "        [  6,   7,   8,   9,  10],\r\n",
        "        [ 38,  39,  40,  41,  42],\r\n",
        "        [ 25,  26,  27,  28,  29],\r\n",
        "        [  7,   8,   9,  10,  11]])\r\n",
        "\r\n",
        "torch.Size([10])\r\n",
        "tensor([ 33,  26,  22,  39,  16,  28,  11,  43,  30,  12])\r\n",
        "```\r\n",
        "\r\n",
        "### Sizes\r\n",
        "\r\n",
        "Your sample_x should be of size `(batch_size, sequence_length)` or (10,5) in this case and sample_y should just have one dimension: batch_size(10).\r\n",
        "\r\n",
        "### Values\r\n",
        "You should also notice that the targets, sample_y, are the *next* value in the ordered test_text_data. So, for an input sequence `[28, 29, 30, 31, 32]` that ends the value `32`, the corresponding output should be `33`."
      ]
    },
    {
      "cell_type": "code",
      "metadata": {
        "colab": {
          "base_uri": "https://localhost:8080/"
        },
        "id": "ldjkIlmrQ6s-",
        "outputId": "7fd2dc57-e94d-4ff2-d72c-7e4e5e662270"
      },
      "source": [
        "# test dataloader\r\n",
        "\r\n",
        "test_text = range(50)\r\n",
        "t_loader = batch_data(test_text, sequence_length=5, batch_size=10)\r\n",
        "\r\n",
        "data_iter = iter(t_loader)\r\n",
        "sample_x, sample_y = data_iter.next()\r\n",
        "\r\n",
        "print(sample_x.shape)\r\n",
        "print(sample_x)\r\n",
        "print()\r\n",
        "print(sample_y.shape)\r\n",
        "print(sample_y)"
      ],
      "execution_count": 15,
      "outputs": [
        {
          "output_type": "stream",
          "text": [
            "torch.Size([10, 5])\n",
            "tensor([[ 0,  1,  2,  3,  4],\n",
            "        [ 1,  2,  3,  4,  5],\n",
            "        [ 2,  3,  4,  5,  6],\n",
            "        [ 3,  4,  5,  6,  7],\n",
            "        [ 4,  5,  6,  7,  8],\n",
            "        [ 5,  6,  7,  8,  9],\n",
            "        [ 6,  7,  8,  9, 10],\n",
            "        [ 7,  8,  9, 10, 11],\n",
            "        [ 8,  9, 10, 11, 12],\n",
            "        [ 9, 10, 11, 12, 13]])\n",
            "\n",
            "torch.Size([10])\n",
            "tensor([ 5,  6,  7,  8,  9, 10, 11, 12, 13, 14])\n"
          ],
          "name": "stdout"
        }
      ]
    },
    {
      "cell_type": "markdown",
      "metadata": {
        "id": "_Mq8b1JASFWn"
      },
      "source": [
        "---\r\n",
        "## Build the Neural Network\r\n",
        "\r\n",
        "Implement an RNN using PyTorch's [Module class](http://pytorch.org/docs/master/nn.html#torch.nn.Module). You may choose to use a GRU or an LSTM. To complete the RNN, you'll have to implement the following functions for the class:\r\n",
        "* `__init__` - The initialize functions.\r\n",
        "* `init_hidden` - The initialization function for an LSTM/GRU hidden state\r\n",
        "* `forward`: Forward propagation function.\r\n",
        "\r\n",
        "The initialize function should create the layers of the neural network and save them to the class. The forward propagation function will use these layers to run forward propagation and generate an output and a hidden state.\r\n",
        "\r\n",
        "**The output of this model should be the *last* batch of word scores** after a complete sequence has been processed. That is, for each input sequence of words, we only want to output the word scores for a single, most likely, next word.\r\n",
        "\r\n",
        "### Hints\r\n",
        "\r\n",
        "1. Make sure to stack the outputs of the lstm to pass to your fully-connected layer, you can do this with `lstm_output = lstm_output.contiguous().view(-1, self.hidden_dim)`\r\n",
        "2. You can get the last batch of word scores by shaping the output of the final, fully-connected layer like so:\r\n",
        "```python\r\n",
        "# reshape into (batch_size, seq_length, output_size)\r\n",
        "output = output.view(batch_size, -1, self.output_size)\r\n",
        "# get last batch\r\n",
        "out = output[:, -1]\r\n",
        "```"
      ]
    },
    {
      "cell_type": "code",
      "metadata": {
        "id": "0Jix9XpWU3fW"
      },
      "source": [
        "import torch.nn as nn"
      ],
      "execution_count": 16,
      "outputs": []
    },
    {
      "cell_type": "code",
      "metadata": {
        "colab": {
          "base_uri": "https://localhost:8080/"
        },
        "id": "kUhe3CpLVD8o",
        "outputId": "665172e8-aead-40b7-fa65-39dd8d0a0fc5"
      },
      "source": [
        "class RNN(nn.Module):\r\n",
        "\r\n",
        "    def __init__(self, vocab_size, output_size, embedding_dim, hidden_dim, \r\n",
        "                 n_layers, dropout=0.5):\r\n",
        "        \"\"\"\r\n",
        "        Initialize the PyTorch RNN Module\r\n",
        "        :param vocab_size: The number of input dimension of the neural network \r\n",
        "            (the size of the vocabulary)\r\n",
        "        :param output_size: The number of output dimensions of the neural \r\n",
        "            network\r\n",
        "        :param embedding_dim: The size of embeddings, should you choose to use \r\n",
        "            them\r\n",
        "        :param hidden_dim: The size of the hidden layer outputs \r\n",
        "        :param dropout: dropout to add in between LSTM/GRU layers\r\n",
        "        \"\"\"\r\n",
        "        super(RNN, self).__init__()\r\n",
        "        # TODO: Implement function\r\n",
        "\r\n",
        "        # set class variables\r\n",
        "        self.output_size = output_size\r\n",
        "        self.n_layers = n_layers\r\n",
        "        self.hidden_dim = hidden_dim\r\n",
        "\r\n",
        "        # define model layers\r\n",
        "\r\n",
        "        # Embedding layer\r\n",
        "        self.embedding = nn.Embedding(num_embeddings=vocab_size,\r\n",
        "                                      embedding_dim=embedding_dim)\r\n",
        "        \r\n",
        "        # LSTM layer\r\n",
        "        self.lstm = nn.LSTM(input_size=embedding_dim,\r\n",
        "                            hidden_size=self.hidden_dim,\r\n",
        "                            num_layers = self.n_layers,\r\n",
        "                            dropout=dropout,\r\n",
        "                            batch_first=True)\r\n",
        "        \r\n",
        "        # Fully-connected layer maps LSTM layer outputs to\r\n",
        "        # `output_size`\r\n",
        "        self.fc = nn.Linear(in_features=self.hidden_dim,\r\n",
        "                            out_features = self.output_size)\r\n",
        "\r\n",
        "\r\n",
        "    def forward(self, nn_input, hidden):\r\n",
        "        \"\"\"\r\n",
        "        Forward propagation of the neural network\r\n",
        "        :param nn_input: The input to the neural network\r\n",
        "        :param hidden: The hidden state\r\n",
        "        :return: Two Tensors, the output of the neural network and the latest\r\n",
        "            hidden state\r\n",
        "        \"\"\"\r\n",
        "        # TODO: Implement function\r\n",
        "\r\n",
        "        # Get batch_size of data for shaping data\r\n",
        "        batch_size = nn_input.size(0)\r\n",
        "\r\n",
        "        # Pass x input through embedding layer\r\n",
        "        embeds = self.embedding(nn_input)\r\n",
        "\r\n",
        "        # Pass embedding to LSTM layer\r\n",
        "        lstm_out, hidden = self.lstm(embeds, hidden)\r\n",
        "\r\n",
        "        # Stack up LSTM outputs\r\n",
        "        lstm_out = lstm_out.contiguous().view(-1, self.hidden_dim)\r\n",
        "\r\n",
        "        # Pass outputs through fully-connected layer\r\n",
        "        out = self.fc(lstm_out)\r\n",
        "\r\n",
        "        # reshape into (batch_size, seq_length, output_size)\r\n",
        "        output = out.view(batch_size, -1, self.output_size)\r\n",
        "\r\n",
        "        # get last batch\r\n",
        "        out = output[:, -1]\r\n",
        "\r\n",
        "        # return one batch of output word scores and the hidden state\r\n",
        "        return out, hidden\r\n",
        "\r\n",
        "    def init_hidden(self, batch_size):\r\n",
        "        '''\r\n",
        "        Initialize the hidden state of an LSTM/GRU\r\n",
        "        :param batch_size: The batch_size of the hidden state\r\n",
        "        :return: hidden state of dims (n_layers, batch_size, hidden_dim)\r\n",
        "        '''\r\n",
        "        # Implement function\r\n",
        "\r\n",
        "        # initialize hidden state with zero weights, and move to GPU if \r\n",
        "        # available\r\n",
        "\r\n",
        "        weight = next(self.parameters()).data\r\n",
        "\r\n",
        "        if(train_on_gpu):\r\n",
        "            hidden = (weight.new(self.n_layers, batch_size, self.hidden_dim).zero_().cuda(),\r\n",
        "                      weight.new(self.n_layers, batch_size, self.hidden_dim).zero_().cuda())\r\n",
        "        else:\r\n",
        "            hidden = (weight.new(self.n_layers, batch_size, self.hidden_dim).zero_(),\r\n",
        "                      weight.new(self.n_layers, batch_size, self.hidden_dim).zero_())\r\n",
        "\r\n",
        "        return hidden\r\n",
        "\r\n",
        "\"\"\"\r\n",
        "DON'T MODIFY ANYTHING IN THIS CELL THAT IS BELOW THIS LINE\r\n",
        "\"\"\"\r\n",
        "tests.test_rnn(RNN, train_on_gpu)"
      ],
      "execution_count": 17,
      "outputs": [
        {
          "output_type": "stream",
          "text": [
            "Tests Passed\n"
          ],
          "name": "stdout"
        }
      ]
    },
    {
      "cell_type": "markdown",
      "metadata": {
        "id": "T6c-8-h-jvWa"
      },
      "source": [
        "### Define forward and backpropagation\r\n",
        "\r\n",
        "Use the RNN class you implemented to apply forward and backpropagation. This function will be called, iteratively, in the training loop as follows:\r\n",
        "\r\n",
        "```\r\n",
        "loss = forward_back_prop(decoder, decoder_optimizer, criterion, inp, target)\r\n",
        "```\r\n",
        "\r\n",
        "And it should return the average loss over a batch and the hidden state returned by a call to `RNN(inp, hidden)`. Recall that you can get this loss by computing it, as usual, and calling `loss.item()`.\r\n",
        "\r\n",
        "**If a GPU is available, you should move your data to that GPU device, here.**"
      ]
    },
    {
      "cell_type": "code",
      "metadata": {
        "colab": {
          "base_uri": "https://localhost:8080/"
        },
        "id": "quPuKNb-kVpS",
        "outputId": "01b36994-8582-49ea-cf36-be8d20c4afc3"
      },
      "source": [
        "def forward_back_prop(rnn, optimizer, criterion, inp, target, hidden):\r\n",
        "    \"\"\"\r\n",
        "    Forward and backward propagation on the neural network\r\n",
        "    :param rnn: The PyTorch Module that holds the neural network\r\n",
        "    :param optimizer: The PyTorch optimizer for the neural network\r\n",
        "    :param criterion: The PyTorch loss function\r\n",
        "    :param inp: A batch of input to the neural network\r\n",
        "    :param target: The target output for the batch of input\r\n",
        "    :param hidden: The hidden state Tensor from the LSTM layer\r\n",
        "    :return: The loss and the latest hidden state Tensor\r\n",
        "    \"\"\"\r\n",
        "\r\n",
        "    # TODO: Implement Function\r\n",
        "\r\n",
        "    # move data to GPU, if available    \r\n",
        "    if train_on_gpu:\r\n",
        "        inp, target = inp.cuda(), target.cuda()\r\n",
        "\r\n",
        "    # perform backpropagation and optimization\r\n",
        "    \r\n",
        "    # Create new variables for hidden state\r\n",
        "    hidden = tuple([each.data for each in hidden])\r\n",
        "\r\n",
        "    # zero accumulated gradients\r\n",
        "    rnn.zero_grad()\r\n",
        "\r\n",
        "    # get the output from the model\r\n",
        "    output, hidden = rnn(inp, hidden)\r\n",
        "\r\n",
        "    # calculate the loss and perform backprop\r\n",
        "    loss = criterion(output.squeeze(), target)\r\n",
        "    loss.backward()\r\n",
        "\r\n",
        "    # `clip_grad_norm` helps prevent exploding gradient problem in LSTM\r\n",
        "    nn.utils.clip_grad_norm_(rnn.parameters(), 5)\r\n",
        "    optimizer.step()\r\n",
        "\r\n",
        "    # return the loss over a batch and the hidden state produced by our model\r\n",
        "\r\n",
        "    return loss.item(), hidden\r\n",
        "\r\n",
        "# Note that these tests aren't completely extensive.\r\n",
        "# they are here to act as general checks on the expected outputs of your\r\n",
        "# functions\r\n",
        "\"\"\"\r\n",
        "DON'T MODIFY ANYTHING IN THIS CELL THAT IS BELOW THIS LINE\r\n",
        "\"\"\"\r\n",
        "tests.test_forward_back_prop(RNN, forward_back_prop, train_on_gpu)"
      ],
      "execution_count": 18,
      "outputs": [
        {
          "output_type": "stream",
          "text": [
            "Tests Passed\n"
          ],
          "name": "stdout"
        }
      ]
    },
    {
      "cell_type": "markdown",
      "metadata": {
        "id": "982PM2O-nORE"
      },
      "source": [
        "## Neural Network Training\r\n",
        "\r\n",
        "With the structure of the network complete and data ready to be fed in the neural network, it's time to train it.\r\n",
        "\r\n",
        "### Train Loop\r\n",
        "\r\n",
        "The training loop is implemented for you in the `train_decoder` function. This function will train the network over all the batches for the number of epochs given. The model progress will be shown every number of batches. This number if set with the `show_every_n_batches` parameter. You'll set this parameter along with other parameters in the next section."
      ]
    },
    {
      "cell_type": "code",
      "metadata": {
        "id": "395pEQzbnOVT"
      },
      "source": [
        "\"\"\"\r\n",
        "DON'T MODIFY ANYTHING IN THIS CELL\r\n",
        "\"\"\"\r\n",
        "\r\n",
        "def train_rnn(rnn, batch_size, optimizer, criterion, n_epochs, \r\n",
        "              show_every_n_batches=100):\r\n",
        "    batch_losses = []\r\n",
        "\r\n",
        "    rnn.train()\r\n",
        "\r\n",
        "    print(\"Training for %d epoch(s)...\" % n_epochs)\r\n",
        "    for epoch_i in range(1, n_epochs + 1):\r\n",
        "\r\n",
        "        # initialize hidden state\r\n",
        "        hidden = rnn.init_hidden(batch_size)\r\n",
        "\r\n",
        "        for batch_i, (inputs, labels) in enumerate(train_loader, 1):\r\n",
        "\r\n",
        "            # make sure you iterate over completely full batches, only\r\n",
        "            n_batches = len(train_loader.dataset)//batch_size\r\n",
        "            if(batch_i > n_batches):\r\n",
        "                break\r\n",
        "            \r\n",
        "            # forward, back prop\r\n",
        "            loss, hidden = forward_back_prop(rnn, optimizer, criterion, inputs,\r\n",
        "                                             labels, hidden)\r\n",
        "            # record loss\r\n",
        "            batch_losses.append(loss)\r\n",
        "\r\n",
        "            # printing loss stats\r\n",
        "            if batch_i % show_every_n_batches == 0:\r\n",
        "                print('Epoch: {:>4}/{:<4}  Loss: {}\\n'.format(\r\n",
        "                    epoch_i, n_epochs, np.average(batch_losses)))\r\n",
        "                batch_losses = []\r\n",
        "\r\n",
        "    # returns a trained rnn\r\n",
        "    return rnn"
      ],
      "execution_count": 19,
      "outputs": []
    },
    {
      "cell_type": "markdown",
      "metadata": {
        "id": "D_vulAKCnOZg"
      },
      "source": [
        "## Hyperparameters\r\n",
        "\r\n",
        "Set and train the neural network with the following parameters:\r\n",
        "- Set `sequence_length` to the length of a sequence.\r\n",
        "- Set `batch_size` to the batch size.\r\n",
        "- Set `num_epochs` to the number of epochs to train for.\r\n",
        "- Set `learning_rate` to the learning rate for an Adam optimizer.\r\n",
        "- Set `vocab_size` to the number of unique tokens in our vocabulary.\r\n",
        "- Set `output_size` to the desired size of the output.\r\n",
        "- Set `embedding_dim` to the embedding dimension; smaller than the vocab_size.\r\n",
        "- Set `hidden_dim` to the hidden dimension of your RNN.\r\n",
        "- Set `n_layers` to the number of layers/cells in your RNN.\r\n",
        "- Set `show_every_n_batches` to the number of batches at which the neural network should print progress.\r\n",
        "\r\n",
        "If the network isn't getting the desired results, tweaked these parameters and/or the layers in the `RNN` class."
      ]
    },
    {
      "cell_type": "code",
      "metadata": {
        "id": "kTYO0XhSnOdm"
      },
      "source": [
        "# Data params\r\n",
        "# Sequence Length\r\n",
        "sequence_length = 15 # of words in a sequence\r\n",
        "# Batch Size\r\n",
        "batch_size = 100\r\n",
        "\r\n",
        "# data loader - do not change\r\n",
        "train_loader = batch_data(int_text, sequence_length, batch_size)"
      ],
      "execution_count": 20,
      "outputs": []
    },
    {
      "cell_type": "code",
      "metadata": {
        "colab": {
          "base_uri": "https://localhost:8080/"
        },
        "id": "-2qo9SODSW2g",
        "outputId": "ed1b2b3d-2a12-4265-ba9d-07a21a6add37"
      },
      "source": [
        "len(set(int_text)), len(vocab_to_int)"
      ],
      "execution_count": 21,
      "outputs": [
        {
          "output_type": "execute_result",
          "data": {
            "text/plain": [
              "(21387, 21388)"
            ]
          },
          "metadata": {
            "tags": []
          },
          "execution_count": 21
        }
      ]
    },
    {
      "cell_type": "code",
      "metadata": {
        "id": "J0nDJKIQtnw2"
      },
      "source": [
        "# Training parameters\r\n",
        "# Number of Epochs\r\n",
        "num_epochs = 12\r\n",
        "# Learning Rate\r\n",
        "learning_rate = 0.0008\r\n",
        "\r\n",
        "# Model parameters\r\n",
        "# Vocab size\r\n",
        "vocab_size = len(vocab_to_int)\r\n",
        "# Output size\r\n",
        "output_size = len(vocab_to_int)\r\n",
        "# Embedding Dimension\r\n",
        "embedding_dim = 300\r\n",
        "# Hidden Dimension\r\n",
        "hidden_dim = 512\r\n",
        "# Number of RNN Layers\r\n",
        "n_layers = 2\r\n",
        "\r\n",
        "# Show stats for every n number of batches\r\n",
        "show_every_n_batches = 500"
      ],
      "execution_count": 22,
      "outputs": []
    },
    {
      "cell_type": "markdown",
      "metadata": {
        "id": "o57TdgbUuFr2"
      },
      "source": [
        "### Train\r\n",
        "\r\n",
        "In the next cell, you'll train the neural network on the pre-processed data. If you have a hard time getting a good loss, you may consider changing your hyperparameters. In general, you may get better results with larger hidden and n_layer dimensions, but larger models take a longer time to train.\r\n",
        ">**You should aim for a loss less than 3.5.**\r\n",
        "\r\n",
        "You should also experiment with different sequence lengths, which determine the size of the long range dependencies that a model can learn."
      ]
    },
    {
      "cell_type": "code",
      "metadata": {
        "colab": {
          "base_uri": "https://localhost:8080/"
        },
        "id": "F2MJOltfvRKD",
        "outputId": "f034316c-c365-4635-d341-e6e493f20d6b"
      },
      "source": [
        "\"\"\"\r\n",
        "DON'T MODIFY ANYTHING IN THIS CELL\r\n",
        "\"\"\"\r\n",
        "\r\n",
        "# create model and move to gpu if available\r\n",
        "rnn = RNN(vocab_size, output_size, embedding_dim, hidden_dim, n_layers, \r\n",
        "          dropout=0.5)\r\n",
        "if train_on_gpu:\r\n",
        "    rnn.cuda()\r\n",
        "\r\n",
        "# defining loss and optimization functions for training\r\n",
        "optimizer = torch.optim.Adam(rnn.parameters(), lr=learning_rate)\r\n",
        "criterion = nn.CrossEntropyLoss()\r\n",
        "\r\n",
        "# training the model\r\n",
        "trained_rnn = train_rnn(rnn, batch_size, optimizer, criterion, num_epochs, \r\n",
        "                        show_every_n_batches)\r\n",
        "\r\n",
        "# saving the trained model\r\n",
        "helper.save_model('./save/trained_rnn', trained_rnn)\r\n",
        "print('Model Trained and Saved')"
      ],
      "execution_count": 23,
      "outputs": [
        {
          "output_type": "stream",
          "text": [
            "Training for 12 epoch(s)...\n",
            "Epoch:    1/12    Loss: 5.374225947856903\n",
            "\n",
            "Epoch:    1/12    Loss: 4.908878422260284\n",
            "\n",
            "Epoch:    1/12    Loss: 4.5994784507751465\n",
            "\n",
            "Epoch:    1/12    Loss: 4.44135863161087\n",
            "\n",
            "Epoch:    1/12    Loss: 4.304955034255982\n",
            "\n",
            "Epoch:    1/12    Loss: 4.421265505313873\n",
            "\n",
            "Epoch:    1/12    Loss: 4.351437352657318\n",
            "\n",
            "Epoch:    1/12    Loss: 4.4022657942771914\n",
            "\n",
            "Epoch:    1/12    Loss: 4.282596526622772\n",
            "\n",
            "Epoch:    1/12    Loss: 4.2369145584106445\n",
            "\n",
            "Epoch:    1/12    Loss: 4.073987847328186\n",
            "\n",
            "Epoch:    1/12    Loss: 4.213703156471253\n",
            "\n",
            "Epoch:    1/12    Loss: 4.129480645179749\n",
            "\n",
            "Epoch:    1/12    Loss: 4.216966462612152\n",
            "\n",
            "Epoch:    1/12    Loss: 4.270265441417694\n",
            "\n",
            "Epoch:    1/12    Loss: 4.245278859138489\n",
            "\n",
            "Epoch:    1/12    Loss: 4.236959681510926\n",
            "\n",
            "Epoch:    2/12    Loss: 4.050329527647599\n",
            "\n",
            "Epoch:    2/12    Loss: 3.902114125728607\n",
            "\n",
            "Epoch:    2/12    Loss: 3.832838659763336\n",
            "\n",
            "Epoch:    2/12    Loss: 3.754029941082001\n",
            "\n",
            "Epoch:    2/12    Loss: 3.688595192909241\n",
            "\n",
            "Epoch:    2/12    Loss: 3.8189327211380006\n",
            "\n",
            "Epoch:    2/12    Loss: 3.7926278839111327\n",
            "\n",
            "Epoch:    2/12    Loss: 3.866102168560028\n",
            "\n",
            "Epoch:    2/12    Loss: 3.7774616537094117\n",
            "\n",
            "Epoch:    2/12    Loss: 3.730621992588043\n",
            "\n",
            "Epoch:    2/12    Loss: 3.6290557894706725\n",
            "\n",
            "Epoch:    2/12    Loss: 3.7209334793090822\n",
            "\n",
            "Epoch:    2/12    Loss: 3.6926202726364137\n",
            "\n",
            "Epoch:    2/12    Loss: 3.781669060230255\n",
            "\n",
            "Epoch:    2/12    Loss: 3.82729327249527\n",
            "\n",
            "Epoch:    2/12    Loss: 3.7853267378807067\n",
            "\n",
            "Epoch:    2/12    Loss: 3.792455675125122\n",
            "\n",
            "Epoch:    3/12    Loss: 3.6886149932508885\n",
            "\n",
            "Epoch:    3/12    Loss: 3.629193075656891\n",
            "\n",
            "Epoch:    3/12    Loss: 3.559853900909424\n",
            "\n",
            "Epoch:    3/12    Loss: 3.5029570536613464\n",
            "\n",
            "Epoch:    3/12    Loss: 3.45424489068985\n",
            "\n",
            "Epoch:    3/12    Loss: 3.552030903339386\n",
            "\n",
            "Epoch:    3/12    Loss: 3.558900719642639\n",
            "\n",
            "Epoch:    3/12    Loss: 3.616553162574768\n",
            "\n",
            "Epoch:    3/12    Loss: 3.522529016971588\n",
            "\n",
            "Epoch:    3/12    Loss: 3.468293105125427\n",
            "\n",
            "Epoch:    3/12    Loss: 3.415649568080902\n",
            "\n",
            "Epoch:    3/12    Loss: 3.4882019095420835\n",
            "\n",
            "Epoch:    3/12    Loss: 3.4777937502861023\n",
            "\n",
            "Epoch:    3/12    Loss: 3.5355942206382753\n",
            "\n",
            "Epoch:    3/12    Loss: 3.601478244304657\n",
            "\n",
            "Epoch:    3/12    Loss: 3.5632233872413637\n",
            "\n",
            "Epoch:    3/12    Loss: 3.557054877281189\n",
            "\n",
            "Epoch:    4/12    Loss: 3.484099116273548\n",
            "\n",
            "Epoch:    4/12    Loss: 3.4531056733131407\n",
            "\n",
            "Epoch:    4/12    Loss: 3.3863610343933104\n",
            "\n",
            "Epoch:    4/12    Loss: 3.339780025482178\n",
            "\n",
            "Epoch:    4/12    Loss: 3.294652216434479\n",
            "\n",
            "Epoch:    4/12    Loss: 3.3487494659423827\n",
            "\n",
            "Epoch:    4/12    Loss: 3.3811568884849548\n",
            "\n",
            "Epoch:    4/12    Loss: 3.429720148563385\n",
            "\n",
            "Epoch:    4/12    Loss: 3.3566755442619325\n",
            "\n",
            "Epoch:    4/12    Loss: 3.3029669189453124\n",
            "\n",
            "Epoch:    4/12    Loss: 3.236825451850891\n",
            "\n",
            "Epoch:    4/12    Loss: 3.3131168546676637\n",
            "\n",
            "Epoch:    4/12    Loss: 3.319653625011444\n",
            "\n",
            "Epoch:    4/12    Loss: 3.375728014469147\n",
            "\n",
            "Epoch:    4/12    Loss: 3.439807188510895\n",
            "\n",
            "Epoch:    4/12    Loss: 3.3918082475662232\n",
            "\n",
            "Epoch:    4/12    Loss: 3.3953275284767153\n",
            "\n",
            "Epoch:    5/12    Loss: 3.3359872084596884\n",
            "\n",
            "Epoch:    5/12    Loss: 3.3266266360282897\n",
            "\n",
            "Epoch:    5/12    Loss: 3.2558681116104125\n",
            "\n",
            "Epoch:    5/12    Loss: 3.2270955934524537\n",
            "\n",
            "Epoch:    5/12    Loss: 3.1783206043243406\n",
            "\n",
            "Epoch:    5/12    Loss: 3.213023072242737\n",
            "\n",
            "Epoch:    5/12    Loss: 3.258202983379364\n",
            "\n",
            "Epoch:    5/12    Loss: 3.303849821090698\n",
            "\n",
            "Epoch:    5/12    Loss: 3.23057310628891\n",
            "\n",
            "Epoch:    5/12    Loss: 3.1912619724273683\n",
            "\n",
            "Epoch:    5/12    Loss: 3.1231097559928895\n",
            "\n",
            "Epoch:    5/12    Loss: 3.197459125995636\n",
            "\n",
            "Epoch:    5/12    Loss: 3.1942096099853514\n",
            "\n",
            "Epoch:    5/12    Loss: 3.2481384625434875\n",
            "\n",
            "Epoch:    5/12    Loss: 3.3105261397361754\n",
            "\n",
            "Epoch:    5/12    Loss: 3.26353218793869\n",
            "\n",
            "Epoch:    5/12    Loss: 3.28291143989563\n",
            "\n",
            "Epoch:    6/12    Loss: 3.2259729657484137\n",
            "\n",
            "Epoch:    6/12    Loss: 3.2234783549308776\n",
            "\n",
            "Epoch:    6/12    Loss: 3.153559052467346\n",
            "\n",
            "Epoch:    6/12    Loss: 3.129027960777283\n",
            "\n",
            "Epoch:    6/12    Loss: 3.0905923733711242\n",
            "\n",
            "Epoch:    6/12    Loss: 3.109827175140381\n",
            "\n",
            "Epoch:    6/12    Loss: 3.153806375026703\n",
            "\n",
            "Epoch:    6/12    Loss: 3.2095569767951964\n",
            "\n",
            "Epoch:    6/12    Loss: 3.1484916186332703\n",
            "\n",
            "Epoch:    6/12    Loss: 3.0911774702072146\n",
            "\n",
            "Epoch:    6/12    Loss: 3.035741678237915\n",
            "\n",
            "Epoch:    6/12    Loss: 3.1064229083061217\n",
            "\n",
            "Epoch:    6/12    Loss: 3.1007804226875306\n",
            "\n",
            "Epoch:    6/12    Loss: 3.1479733819961546\n",
            "\n",
            "Epoch:    6/12    Loss: 3.2149574007987978\n",
            "\n",
            "Epoch:    6/12    Loss: 3.1580986614227293\n",
            "\n",
            "Epoch:    6/12    Loss: 3.1914584555625916\n",
            "\n",
            "Epoch:    7/12    Loss: 3.137780415493509\n",
            "\n",
            "Epoch:    7/12    Loss: 3.1480968136787415\n",
            "\n",
            "Epoch:    7/12    Loss: 3.080424132347107\n",
            "\n",
            "Epoch:    7/12    Loss: 3.05083185338974\n",
            "\n",
            "Epoch:    7/12    Loss: 3.0183902163505554\n",
            "\n",
            "Epoch:    7/12    Loss: 3.0279217324256895\n",
            "\n",
            "Epoch:    7/12    Loss: 3.073394956111908\n",
            "\n",
            "Epoch:    7/12    Loss: 3.1357546944618226\n",
            "\n",
            "Epoch:    7/12    Loss: 3.070304675102234\n",
            "\n",
            "Epoch:    7/12    Loss: 3.005451006412506\n",
            "\n",
            "Epoch:    7/12    Loss: 2.9625935401916506\n",
            "\n",
            "Epoch:    7/12    Loss: 3.032946542739868\n",
            "\n",
            "Epoch:    7/12    Loss: 3.0258601760864257\n",
            "\n",
            "Epoch:    7/12    Loss: 3.069069477558136\n",
            "\n",
            "Epoch:    7/12    Loss: 3.1405499901771545\n",
            "\n",
            "Epoch:    7/12    Loss: 3.0893692378997804\n",
            "\n",
            "Epoch:    7/12    Loss: 3.1167495665550233\n",
            "\n",
            "Epoch:    8/12    Loss: 3.069085163525913\n",
            "\n",
            "Epoch:    8/12    Loss: 3.077023136615753\n",
            "\n",
            "Epoch:    8/12    Loss: 3.0113681778907777\n",
            "\n",
            "Epoch:    8/12    Loss: 2.9822708225250243\n",
            "\n",
            "Epoch:    8/12    Loss: 2.951619466781616\n",
            "\n",
            "Epoch:    8/12    Loss: 2.9558156599998475\n",
            "\n",
            "Epoch:    8/12    Loss: 3.0058609704971313\n",
            "\n",
            "Epoch:    8/12    Loss: 3.0617131414413454\n",
            "\n",
            "Epoch:    8/12    Loss: 3.00041010761261\n",
            "\n",
            "Epoch:    8/12    Loss: 2.941330464839935\n",
            "\n",
            "Epoch:    8/12    Loss: 2.8996081566810608\n",
            "\n",
            "Epoch:    8/12    Loss: 2.9629278421401977\n",
            "\n",
            "Epoch:    8/12    Loss: 2.9541749672889708\n",
            "\n",
            "Epoch:    8/12    Loss: 2.9906042613983153\n",
            "\n",
            "Epoch:    8/12    Loss: 3.0592096424102784\n",
            "\n",
            "Epoch:    8/12    Loss: 3.0059165167808533\n",
            "\n",
            "Epoch:    8/12    Loss: 3.0519322094917296\n",
            "\n",
            "Epoch:    9/12    Loss: 3.009730826901353\n",
            "\n",
            "Epoch:    9/12    Loss: 3.0103142697811127\n",
            "\n",
            "Epoch:    9/12    Loss: 2.9591075506210327\n",
            "\n",
            "Epoch:    9/12    Loss: 2.9320980501174927\n",
            "\n",
            "Epoch:    9/12    Loss: 2.8991717443466185\n",
            "\n",
            "Epoch:    9/12    Loss: 2.890939902305603\n",
            "\n",
            "Epoch:    9/12    Loss: 2.9452907710075378\n",
            "\n",
            "Epoch:    9/12    Loss: 3.0036448888778686\n",
            "\n",
            "Epoch:    9/12    Loss: 2.9476163730621336\n",
            "\n",
            "Epoch:    9/12    Loss: 2.887564808368683\n",
            "\n",
            "Epoch:    9/12    Loss: 2.8447667384147644\n",
            "\n",
            "Epoch:    9/12    Loss: 2.904459949493408\n",
            "\n",
            "Epoch:    9/12    Loss: 2.9000008645057678\n",
            "\n",
            "Epoch:    9/12    Loss: 2.930086067199707\n",
            "\n",
            "Epoch:    9/12    Loss: 3.0082714104652406\n",
            "\n",
            "Epoch:    9/12    Loss: 2.9413926720619203\n",
            "\n",
            "Epoch:    9/12    Loss: 2.9935831632614134\n",
            "\n",
            "Epoch:   10/12    Loss: 2.9506285467873448\n",
            "\n",
            "Epoch:   10/12    Loss: 2.959575169324875\n",
            "\n",
            "Epoch:   10/12    Loss: 2.901571401119232\n",
            "\n",
            "Epoch:   10/12    Loss: 2.883266209602356\n",
            "\n",
            "Epoch:   10/12    Loss: 2.8560847089290617\n",
            "\n",
            "Epoch:   10/12    Loss: 2.8451857724189757\n",
            "\n",
            "Epoch:   10/12    Loss: 2.8997472596168516\n",
            "\n",
            "Epoch:   10/12    Loss: 2.942252004623413\n",
            "\n",
            "Epoch:   10/12    Loss: 2.8937468852996826\n",
            "\n",
            "Epoch:   10/12    Loss: 2.836051347732544\n",
            "\n",
            "Epoch:   10/12    Loss: 2.808306105852127\n",
            "\n",
            "Epoch:   10/12    Loss: 2.851671966075897\n",
            "\n",
            "Epoch:   10/12    Loss: 2.8574821662902834\n",
            "\n",
            "Epoch:   10/12    Loss: 2.8797906448841095\n",
            "\n",
            "Epoch:   10/12    Loss: 2.946501826763153\n",
            "\n",
            "Epoch:   10/12    Loss: 2.897434596776962\n",
            "\n",
            "Epoch:   10/12    Loss: 2.9431044425964354\n",
            "\n",
            "Epoch:   11/12    Loss: 2.9093905029089555\n",
            "\n",
            "Epoch:   11/12    Loss: 2.9153353917598723\n",
            "\n",
            "Epoch:   11/12    Loss: 2.8658025226593016\n",
            "\n",
            "Epoch:   11/12    Loss: 2.838500168800354\n",
            "\n",
            "Epoch:   11/12    Loss: 2.8145642938613893\n",
            "\n",
            "Epoch:   11/12    Loss: 2.7969274275302887\n",
            "\n",
            "Epoch:   11/12    Loss: 2.8445548844337463\n",
            "\n",
            "Epoch:   11/12    Loss: 2.8996642897129057\n",
            "\n",
            "Epoch:   11/12    Loss: 2.8540500230789183\n",
            "\n",
            "Epoch:   11/12    Loss: 2.790776261329651\n",
            "\n",
            "Epoch:   11/12    Loss: 2.7634221920967104\n",
            "\n",
            "Epoch:   11/12    Loss: 2.819782479763031\n",
            "\n",
            "Epoch:   11/12    Loss: 2.8062596888542175\n",
            "\n",
            "Epoch:   11/12    Loss: 2.8405002031326294\n",
            "\n",
            "Epoch:   11/12    Loss: 2.904461050271988\n",
            "\n",
            "Epoch:   11/12    Loss: 2.8547517035007477\n",
            "\n",
            "Epoch:   11/12    Loss: 2.894280767440796\n",
            "\n",
            "Epoch:   12/12    Loss: 2.8661007837108943\n",
            "\n",
            "Epoch:   12/12    Loss: 2.8751674716472624\n",
            "\n",
            "Epoch:   12/12    Loss: 2.833064082622528\n",
            "\n",
            "Epoch:   12/12    Loss: 2.799144464969635\n",
            "\n",
            "Epoch:   12/12    Loss: 2.7797409827709196\n",
            "\n",
            "Epoch:   12/12    Loss: 2.7475086054801943\n",
            "\n",
            "Epoch:   12/12    Loss: 2.8104518313407896\n",
            "\n",
            "Epoch:   12/12    Loss: 2.8671866772174837\n",
            "\n",
            "Epoch:   12/12    Loss: 2.816312116622925\n",
            "\n",
            "Epoch:   12/12    Loss: 2.75421572136879\n",
            "\n",
            "Epoch:   12/12    Loss: 2.7267376766204836\n",
            "\n",
            "Epoch:   12/12    Loss: 2.775925150871277\n",
            "\n",
            "Epoch:   12/12    Loss: 2.7711225366592407\n",
            "\n",
            "Epoch:   12/12    Loss: 2.7983849997520447\n",
            "\n",
            "Epoch:   12/12    Loss: 2.85861803483963\n",
            "\n",
            "Epoch:   12/12    Loss: 2.813738657951355\n",
            "\n",
            "Epoch:   12/12    Loss: 2.8528013215065005\n",
            "\n",
            "Model Trained and Saved\n"
          ],
          "name": "stdout"
        }
      ]
    },
    {
      "cell_type": "markdown",
      "metadata": {
        "id": "ySWOB4PXwTNT"
      },
      "source": [
        "### Question: How did you decide on your model hyperparameters?\r\n",
        "\r\n",
        "For example, did you try different sequence_lengths and find that one size made the model converge faster? What about your hidden_dim and n_layers; how did you decide on those?\r\n",
        "\r\n",
        "**Answer:** I tried sequence lengths from 100 down to 15. The latter is better for sentences that we want to predict because it better matches the average length of a sentence in Seinfeld. `hidden_dim=500` while `n_layers=2`, as suggested in lessons (values of 2 or 3). Learning rate is 0.0008, after experimenting with rates in the range (0.001, 0.01). When the learning rate was < 0.005, the loss would reduce but not reliably. For larger learning rates, the loss would reduce and then increase. Ultimately, the biggest difference I found in training was not due to hyperparameters but the architecture itself; removing a dropout layer after the lstm layer (which already has dropout).\r\n",
        "---\r\n",
        "\r\n",
        "# Checkpoint\r\n",
        "\r\n",
        "After running the above training cell, your model will be saved by name, `trained_rnn`, and if you save your notebook progress, **you can pause here and come back to this code at another time.** You can resume your progress by running the next cell, which will load in our word:id dictionaries *and* load in your saved model by name!"
      ]
    },
    {
      "cell_type": "code",
      "metadata": {
        "id": "QmsrCGKbxnSu"
      },
      "source": [
        "\"\"\"\r\n",
        "DON'T MODIFY ANYTHING IN THIS CELL\r\n",
        "\"\"\"\r\n",
        "import torch\r\n",
        "import helper\r\n",
        "import problem_unittests as tests\r\n",
        "\r\n",
        "_, vocab_to_int, int_to_vocab, token_dict = helper.load_preprocess()\r\n",
        "trained_rnn = helper.load_model('./save/trained_rnn')"
      ],
      "execution_count": 24,
      "outputs": []
    },
    {
      "cell_type": "markdown",
      "metadata": {
        "id": "euE8vW6eyLhE"
      },
      "source": [
        "## Generate TV Script\r\n",
        "\r\n",
        "With the network trained and saved, you'll use it to generate a new, \"fake\" Seinfeld TV script in this section.\r\n",
        "\r\n",
        "### Generate Text\r\n",
        "\r\n",
        "To generate the text, the network needs to start with a single word and repeat its predictions until it reaches a set length. You'll be using the `generate` function to do this. It takes a word id to start with, `prime_id`, and generates a set length of text, `predict_len`. Also note that it uses topk sampling to introduce some randomness in choosing the most likely next word, given an output set of word scores!"
      ]
    },
    {
      "cell_type": "code",
      "metadata": {
        "id": "4_WkvkHQzKHi"
      },
      "source": [
        "\"\"\"\r\n",
        "DON'T MODIFY ANYTHING IN THIS CELL THAT IS BELOW THIS LINE\r\n",
        "\"\"\"\r\n",
        "import torch.nn.functional as F\r\n",
        "\r\n",
        "def generate(rnn, prime_id, int_to_vocab, token_dict, pad_value, \r\n",
        "             predict_len=100):\r\n",
        "    \"\"\"\r\n",
        "    Generate text using the neural network\r\n",
        "    :param decoder: The PyTorch Module that holds the trained neural network\r\n",
        "    :param prime_id: the word id to start the first prediction\r\n",
        "    :param int_to_vocab: Dict of word id keys to word values\r\n",
        "    :param token_dict: Dict of punctuation tokens keys to punctuation values\r\n",
        "    :param pad_value: The value used to pad a sequence\r\n",
        "    :param predict_len: The length of text to generate\r\n",
        "    :return: The generated text\r\n",
        "    \"\"\"\r\n",
        "    rnn.eval()\r\n",
        "\r\n",
        "    # create a sequence (batch_size=1) with the prime_id\r\n",
        "    current_seq = np.full((1, sequence_length), pad_value)\r\n",
        "    current_seq[-1][-1] = prime_id\r\n",
        "    predicted = [int_to_vocab[prime_id]]\r\n",
        "\r\n",
        "    for _ in range(predict_len):\r\n",
        "        if train_on_gpu:\r\n",
        "            current_seq = torch.LongTensor(current_seq).cuda()\r\n",
        "        else:\r\n",
        "            current_seq = torch.LongTensor(current_seq).cpu()\r\n",
        "\r\n",
        "        # initialize the hidden state\r\n",
        "        hidden = rnn.init_hidden(current_seq.size(0))\r\n",
        "\r\n",
        "        # get the output of the rnn\r\n",
        "        output, _ = rnn(current_seq, hidden)\r\n",
        "\r\n",
        "        # get the next word probabilities\r\n",
        "        p = F.softmax(output, dim=1).data\r\n",
        "        if(train_on_gpu):\r\n",
        "            p = p.cpu() # move to cpu\r\n",
        "\r\n",
        "        # use top_k sampling to get the index of the next word\r\n",
        "        top_k = 5\r\n",
        "        p, top_i = p.topk(top_k)\r\n",
        "        top_i = top_i.numpy().squeeze()\r\n",
        "\r\n",
        "        # select the likely next word index with some element of randomness\r\n",
        "        p = p.numpy().squeeze()\r\n",
        "        word_i = np.random.choice(top_i, p=p/p.sum())\r\n",
        "\r\n",
        "        # retrieve that word from the dictionary\r\n",
        "        word = int_to_vocab[word_i]\r\n",
        "        predicted.append(word)\r\n",
        "\r\n",
        "        # the generated word becomes the next \"current sequence\" and the cycle\r\n",
        "        # can continue\r\n",
        "        current_seq = np.roll(current_seq.cpu(), -1, 1)\r\n",
        "        current_seq[-1][-1] = word_i\r\n",
        "    \r\n",
        "    gen_sentences = ' '.join(predicted)\r\n",
        "\r\n",
        "    # Replace punctuation tokens\r\n",
        "    for key, token in token_dict.items():\r\n",
        "        ending = ' ' if key in ['\\n', '(', '\"'] else ''\r\n",
        "        gen_sentences = gen_sentences.replace(' ' + token.lower(), key)\r\n",
        "    gen_sentences = gen_sentences.replace('\\n ', '\\n')\r\n",
        "    gen_sentences = gen_sentences.replace('( ', '(')\r\n",
        "\r\n",
        "    # return all the sentences\r\n",
        "    return gen_sentences"
      ],
      "execution_count": 29,
      "outputs": []
    },
    {
      "cell_type": "markdown",
      "metadata": {
        "id": "wKPxU9EC3S_E"
      },
      "source": [
        "### Generate a New Script\r\n",
        "\r\n",
        "It's time to generate the text. Set `gen_length` to the length of TV script you want to generate and set `prime_word` to one of the following to start the prediction:\r\n",
        "* \"jerry\"\r\n",
        "* \"elaine\"\r\n",
        "* \"george\"\r\n",
        "* \"kramer\"\r\n",
        "\r\n",
        "You can set the prime word to *any word* in our dictionary, but it's best to start with a name for generating a TV script. (You can also start with any other names you find in the original text file!)"
      ]
    },
    {
      "cell_type": "code",
      "metadata": {
        "id": "97tj4DX935FV",
        "colab": {
          "base_uri": "https://localhost:8080/"
        },
        "outputId": "d97bd634-bcf8-4efc-ba2a-68fdd4edace5"
      },
      "source": [
        "# run the cell multiple times to get different results!\r\n",
        "gen_length = 400 # modify the length to your preference\r\n",
        "prime_word = 'jerry' # name for starting the script\r\n",
        "\r\n",
        "\"\"\"\r\n",
        "DON'T MODIFY ANYTHING IN THIS CELL THAT IS BELOW THIS LINE\r\n",
        "\"\"\"\r\n",
        "pad_word = helper.SPECIAL_WORDS['PADDING']\r\n",
        "generated_script = generate(trained_rnn, vocab_to_int[prime_word + ':'], \r\n",
        "                            int_to_vocab, token_dict, vocab_to_int[pad_word],\r\n",
        "                            gen_length)\r\n",
        "print(generated_script)"
      ],
      "execution_count": 34,
      "outputs": [
        {
          "output_type": "stream",
          "text": [
            "jerry: murder mushrooms, but you know, the whole lot on the contrary of the offices to the penalty agent.\n",
            "\n",
            "hoyt: so how did you know that?\n",
            "\n",
            "jerry: it's a good day.\n",
            "\n",
            "elaine: what did he tell him about it?\n",
            "\n",
            "george: i don't know. i was thinking of instituting jubilation.\n",
            "\n",
            "jerry: oh, yeah.\n",
            "\n",
            "jerry: you know how you were?\n",
            "\n",
            "elaine: no, i don't want to interrupt my father.\n",
            "\n",
            "elaine: what?\n",
            "\n",
            "george: well, i was in snitzer's court. i was employed for a long time.\n",
            "\n",
            "george: you know, i think that might be a lot nicer.\n",
            "\n",
            "hoyt: so, how was your father?\n",
            "\n",
            "jerry: it's not the fault. it's a waste of good exciting court.\n",
            "\n",
            "hoyt: state?\n",
            "\n",
            "jerry: yes!\n",
            "\n",
            "jerry: yes, yes.\n",
            "\n",
            "jerry: what do you think?\n",
            "\n",
            "george: nothing.\n",
            "\n",
            "jerry: what?\n",
            "\n",
            "jerry: the contest- i had to go.\n",
            "\n",
            "jerry: you know, i just assumed if it would be a lot nicer, but the whole thing is, i can't believe i was in snitzer's bakery for months..\n",
            "\n",
            "george: you know, they were carrying a regular health cooler.\n",
            "\n",
            "jerry: well, i don't know if i could get the feeling a lot way.\n",
            "\n",
            "elaine: no further not moving.\n",
            "\n",
            "george: you don't have any moral?!\n",
            "\n",
            "frank: you know, you were a very festive boy. i can't afford to put my 15 minutes on my ear compass, but i can't afford to be able to do this any more questions. you know, the only thing i could do.\n",
            "\n",
            "george: i can't. i can't hear the name of the hardest things that fits the rest of the moon.\n",
            "\n",
            "jerry: what do you want?\n",
            "\n",
            "jerry: it's a joke.\n",
            "\n",
            "george: i think you forgot to be a fine show?\n",
            "\n",
            "jerry: what did you say?\n",
            "\n",
            "\n"
          ],
          "name": "stdout"
        }
      ]
    },
    {
      "cell_type": "markdown",
      "metadata": {
        "id": "6eS-tSSV4wSF"
      },
      "source": [
        "**Save your favorite scripts**\r\n",
        "\r\n",
        "Once you have a script that you like (or find interesting), save it to a text file!"
      ]
    },
    {
      "cell_type": "code",
      "metadata": {
        "id": "Gf6R0RQX4wfD"
      },
      "source": [
        "# save script to a text file\r\n",
        "f = open(\"generated_script_1.txt\", \"w\")\r\n",
        "f.write(generated_script)\r\n",
        "f.close()"
      ],
      "execution_count": 35,
      "outputs": []
    },
    {
      "cell_type": "markdown",
      "metadata": {
        "id": "6fcmfYE25AeC"
      },
      "source": [
        "# The TV Script is Not Perfect\r\n",
        "\r\n",
        "It's ok if the TV script doesn't make perfect sense. It should look like alternating lines of dialogue, here is one such example of a few generated lines.\r\n",
        "\r\n",
        "### Example generated script\r\n",
        ">jerry: what about me?\r\n",
        ">\r\n",
        ">jerry: i don't have to wait.\r\n",
        ">\r\n",
        ">kramer:(to the sales table)\r\n",
        ">\r\n",
        ">elaine:(to jerry) hey, look at this, i'm a good doctor.\r\n",
        ">\r\n",
        ">newman:(to elaine) you think i have no idea of this...\r\n",
        ">\r\n",
        ">elaine: oh, you better take the phone, and he was a little nervous.\r\n",
        ">\r\n",
        ">kramer:(to the phone) hey, hey, jerry, i don't want to be a little bit.(to kramer and jerry) you can't.\r\n",
        ">\r\n",
        ">jerry: oh, yeah. i don't even know, i know.\r\n",
        ">\r\n",
        ">jerry:(to the phone) oh, i know.\r\n",
        ">\r\n",
        ">kramer:(laughing) you know...(to jerry) you don't know.\r\n",
        "\r\n",
        "You can see that there are multiple characters that say(somewhat) complete sentences, but it doesn't have to be perfect! It takes quite a while to get good results, and often, you'll have to use a smaller vocabulary (and discard uncommon words), or get more data. The Seinfeld dataset is about 3.4 MB, which is big enough for our purposes; for script generation you'll want more than 1 MB of text, generally.\r\n",
        "\r\n",
        "# Submitting This Project\r\n",
        "\r\n",
        "When submitting this project, make sure to run all the cells before saving the notebook. Save the notebook file as \"dlnd_tv_script_generation.ipynb\" and save another copy as an HTML file by clickling \"File\" -> \"Download As..\" -> \"html\". Include the \"helper.py\" and \"problem_unittests.py\" files in your submission. Once you download these files, compress them into one zip files for submission."
      ]
    }
  ]
}